{
 "cells": [
  {
   "cell_type": "code",
   "execution_count": 1,
   "metadata": {
    "colab": {
     "base_uri": "https://localhost:8080/"
    },
    "id": "RIwVlKbMETLb",
    "outputId": "0c8cec86-454e-4054-ad72-301f63c65d8b"
   },
   "outputs": [
    {
     "name": "stdout",
     "output_type": "stream",
     "text": [
      "Get:1 https://cloud.r-project.org/bin/linux/ubuntu bionic-cran40/ InRelease [3,626 B]\n",
      "Ign:2 https://developer.download.nvidia.com/compute/cuda/repos/ubuntu1804/x86_64  InRelease\n",
      "Get:3 http://security.ubuntu.com/ubuntu bionic-security InRelease [88.7 kB]\n",
      "Ign:4 https://developer.download.nvidia.com/compute/machine-learning/repos/ubuntu1804/x86_64  InRelease\n",
      "Hit:5 https://developer.download.nvidia.com/compute/cuda/repos/ubuntu1804/x86_64  Release\n",
      "Hit:6 https://developer.download.nvidia.com/compute/machine-learning/repos/ubuntu1804/x86_64  Release\n",
      "Hit:7 http://ppa.launchpad.net/c2d4u.team/c2d4u4.0+/ubuntu bionic InRelease\n",
      "Hit:8 http://archive.ubuntu.com/ubuntu bionic InRelease\n",
      "Get:10 http://archive.ubuntu.com/ubuntu bionic-updates InRelease [88.7 kB]\n",
      "Hit:12 http://ppa.launchpad.net/cran/libgit2/ubuntu bionic InRelease\n",
      "Hit:13 http://ppa.launchpad.net/deadsnakes/ppa/ubuntu bionic InRelease\n",
      "Get:14 http://archive.ubuntu.com/ubuntu bionic-backports InRelease [74.6 kB]\n",
      "Hit:15 http://ppa.launchpad.net/graphics-drivers/ppa/ubuntu bionic InRelease\n",
      "Fetched 256 kB in 3s (75.1 kB/s)\n",
      "Reading package lists... Done\n"
     ]
    }
   ],
   "source": [
    "import os\n",
    "# Find the latest version of spark 2.0  from http://www-us.apache.org/dist/spark/ and enter as the spark version\n",
    "# For example:\n",
    "spark_version = \"spark-3.1.1\"\n",
    "os.environ[\"SPARK_VERSION\"]=spark_version\n",
    "\n",
    "# Install Spark and Java\n",
    "!apt-get update\n",
    "!apt-get install openjdk-11-jdk-headless -qq > /dev/null\n",
    "!wget -q http://www-us.apache.org/dist/spark/$SPARK_VERSION/$SPARK_VERSION-bin-hadoop2.7.tgz\n",
    "!tar xf $SPARK_VERSION-bin-hadoop2.7.tgz\n",
    "!pip install -q findspark\n",
    "\n",
    "# Set Environment Variables\n",
    "import os\n",
    "os.environ[\"JAVA_HOME\"] = \"/usr/lib/jvm/java-11-openjdk-amd64\"\n",
    "os.environ[\"SPARK_HOME\"] = f\"/content/{spark_version}-bin-hadoop2.7\"\n",
    "\n",
    "# Start a SparkSession\n",
    "import findspark\n",
    "findspark.init()"
   ]
  },
  {
   "cell_type": "code",
   "execution_count": 2,
   "metadata": {
    "colab": {
     "base_uri": "https://localhost:8080/"
    },
    "id": "iZt3yih_EoeP",
    "outputId": "a52d59c7-abac-4763-999c-659497ea53c9"
   },
   "outputs": [
    {
     "name": "stdout",
     "output_type": "stream",
     "text": [
      "--2021-03-23 18:27:12--  https://jdbc.postgresql.org/download/postgresql-42.2.16.jar\n",
      "Resolving jdbc.postgresql.org (jdbc.postgresql.org)... 72.32.157.228, 2001:4800:3e1:1::228\n",
      "Connecting to jdbc.postgresql.org (jdbc.postgresql.org)|72.32.157.228|:443... connected.\n",
      "HTTP request sent, awaiting response... 200 OK\n",
      "Length: 1002883 (979K) [application/java-archive]\n",
      "Saving to: ‘postgresql-42.2.16.jar.2’\n",
      "\n",
      "postgresql-42.2.16. 100%[===================>] 979.38K  1.21MB/s    in 0.8s    \n",
      "\n",
      "2021-03-23 18:27:14 (1.21 MB/s) - ‘postgresql-42.2.16.jar.2’ saved [1002883/1002883]\n",
      "\n"
     ]
    }
   ],
   "source": [
    "# Download the Postgres driver that will allow Spark to interact with Postgres.\n",
    "!wget https://jdbc.postgresql.org/download/postgresql-42.2.16.jar"
   ]
  },
  {
   "cell_type": "code",
   "execution_count": 3,
   "metadata": {
    "id": "QI-1wT6kEuvJ"
   },
   "outputs": [],
   "source": [
    "from pyspark.sql import SparkSession\n",
    "spark = SparkSession.builder.appName(\"Vine_Review_Analysis\").config(\"spark.driver.extraClassPath\", \"/content/postgresql-42.2.16.jar\").getOrCreate()"
   ]
  },
  {
   "cell_type": "markdown",
   "metadata": {},
   "source": [
    "### Load Amazon Data into Spark DataFrame"
   ]
  },
  {
   "cell_type": "code",
   "execution_count": 4,
   "metadata": {
    "colab": {
     "base_uri": "https://localhost:8080/"
    },
    "id": "_4TUNtDoE5Yz",
    "outputId": "ddf00339-c4cb-4c7a-8fac-6a3f3e221554"
   },
   "outputs": [
    {
     "name": "stdout",
     "output_type": "stream",
     "text": [
      "+-----------+-----------+--------------+----------+--------------+--------------------+----------------+-----------+-------------+-----------+----+-----------------+--------------------+--------------------+-----------+\n",
      "|marketplace|customer_id|     review_id|product_id|product_parent|       product_title|product_category|star_rating|helpful_votes|total_votes|vine|verified_purchase|     review_headline|         review_body|review_date|\n",
      "+-----------+-----------+--------------+----------+--------------+--------------------+----------------+-----------+-------------+-----------+----+-----------------+--------------------+--------------------+-----------+\n",
      "|         US|   10140119|R3LI5TRP3YIDQL|B00TXH4OLC|     384427924|Whatever's for Us...|           Music|          5|            0|          0|   N|                Y|          Five Stars|Love this CD alon...| 2015-08-31|\n",
      "|         US|   27664622|R3LGC3EKEG84PX|B00B6QXN6U|     831769051|Same Trailer Diff...|           Music|          5|            0|          0|   N|                Y|A new fave in our...|This is the album...| 2015-08-31|\n",
      "|         US|   45946560| R9PYL3OYH55QY|B001GCZXW6|      14067376| Soaring (Jazz Club)|           Music|          5|            0|          1|   N|                Y|          Five Stars|  Excellent / thanks| 2015-08-31|\n",
      "|         US|   15146326|R3PWBAWUS4NT0Q|B000003EK6|     566295619|     CARIBBEAN PARTY|           Music|          3|            0|          0|   N|                Y|         Three Stars|Nice variety of c...| 2015-08-31|\n",
      "|         US|   16794688|R15LYP3O51UU9E|B00N1F0BKK|     210426072|         Pain Killer|           Music|          5|            0|          0|   N|                Y|          Five Stars|Purchased as a gi...| 2015-08-31|\n",
      "|         US|   32203364|R1AD7L0CC3DSRI|B00V7KAO7Q|     360249504|A Thoughtiverse U...|           Music|          5|            0|          0|   N|                Y|Definitely worth ...|Really enjoyed th...| 2015-08-31|\n",
      "|         US|    1194276|R32FE8Y45QV434|B000094Q4P|      20972283|Comfort of Her Wings|           Music|          5|            0|          0|   N|                Y|          Five Stars|            Great CD| 2015-08-31|\n",
      "|         US|   45813052|R3NM4MZ4XWL43Q|B00JMK0P1I|     378049560|Sleep Soundly CD ...|           Music|          5|            1|          2|   N|                Y|          Five Stars|       Excellent CD!| 2015-08-31|\n",
      "|         US|   12795687|R3H4FXX6Q7I37D|B008OW1S3O|     141620702|     An Awesome Wave|           Music|          4|            0|          0|   N|                Y|          Four Stars|                nice| 2015-08-31|\n",
      "|         US|   36673840|R30L5PET7LFFDC|B00VI2L3L4|     920557135|          Blurryface|           Music|          5|            1|          1|   N|                Y|        Outstanding!|Outstanding music...| 2015-08-31|\n",
      "|         US|   49453576|  REFRE1LEKLAF|B0000041EV|     683128964|Mozart For Mother...|           Music|          4|            1|          1|   N|                Y|          Four Stars|      quite relaxing| 2015-08-31|\n",
      "|         US|    3285047|R3JTJ5EQN74E9H|B00005YW4H|     268461622|   Come Away with Me|           Music|          5|            0|          0|   N|                Y|          Five Stars|I love this CD.  ...| 2015-08-31|\n",
      "|         US|   24471201|R1W2F091LCOAW5|B00Q9KEZV0|     444090572| Tomorrow Is My Turn|           Music|          5|            0|          0|   N|                Y|FIve Stars and Th...|Rhiannon Giddens ...| 2015-08-31|\n",
      "|         US|   28049396| RYUMFQRRB1FNM|B00GFXRKHW|     482597726|       The Outsiders|           Music|          3|            0|          0|   N|                Y|         Three Stars|Wrecking Ball is ...| 2015-08-31|\n",
      "|         US|   41137196| RHCS6VVXWV3Q3|B004L3AQ10|     609457123|  The Lincoln Lawyer|           Music|          5|            0|          0|   N|                Y|          Five Stars|I was pleased wit...| 2015-08-31|\n",
      "|         US|   43305401|R35UL1YZ2142SL|B0000025PM|     125399885|Bach: Goldberg Va...|           Music|          5|            0|          0|   N|                Y|   The Creative Flow|The music that in...| 2015-08-31|\n",
      "|         US|   50808489|  RU1O6QD1LEBB|B00701QUN8|     144457491|Quiet Riot - Grea...|           Music|          5|            0|          0|   N|                Y|          Five Stars|   Excellent CD&#62;| 2015-08-31|\n",
      "|         US|   15536614|R36RXVL3XIZFH7|B003UJC2QI|     207971309|Love Or Money/Lov...|           Music|          5|            0|          0|   N|                N|    Great Pop Single|Love Or Money by ...| 2015-08-31|\n",
      "|         US|   32536909|R16O7SHYHLEYA1|B00LGA16J2|     760666287|Jonas Kaufmann - ...|           Music|          5|            0|          0|   N|                Y|          Five Stars|      Just splendid!| 2015-08-31|\n",
      "|         US|   51160312|R1Y5GX65Z2V9BG|B00ZGVMLLE|      37408836|        Clockworking|           Music|          5|            0|          0|   N|                N|Glorious Glorious...|One of my favorit...| 2015-08-31|\n",
      "+-----------+-----------+--------------+----------+--------------+--------------------+----------------+-----------+-------------+-----------+----+-----------------+--------------------+--------------------+-----------+\n",
      "only showing top 20 rows\n",
      "\n"
     ]
    }
   ],
   "source": [
    "from pyspark import SparkFiles\n",
    "url = \"https://s3.amazonaws.com/amazon-reviews-pds/tsv/amazon_reviews_us_Music_v1_00.tsv.gz\"\n",
    "spark.sparkContext.addFile(url)\n",
    "df = spark.read.option(\"encoding\", \"UTF-8\").csv(\n",
    "    SparkFiles.get(\"amazon_reviews_us_Music_v1_00.tsv.gz\"),\n",
    "    sep=\"\\t\", header=True, inferSchema=True)\n",
    "df.show()"
   ]
  },
  {
   "cell_type": "markdown",
   "metadata": {},
   "source": [
    "### Clean and Filter DataFrame to create two tables showing rating breakdowns for products included and not included in the Vine program"
   ]
  },
  {
   "cell_type": "code",
   "execution_count": 5,
   "metadata": {
    "colab": {
     "base_uri": "https://localhost:8080/"
    },
    "id": "zITDI_JQILu2",
    "outputId": "4498a1f2-6f01-4b86-b44a-6a4bf17a4da7"
   },
   "outputs": [
    {
     "name": "stdout",
     "output_type": "stream",
     "text": [
      "+-----------+-----------+--------------+----------+--------------+--------------------+----------------+-----------+-------------+-----------+----+-----------------+--------------------+--------------------+-----------+\n",
      "|marketplace|customer_id|     review_id|product_id|product_parent|       product_title|product_category|star_rating|helpful_votes|total_votes|vine|verified_purchase|     review_headline|         review_body|review_date|\n",
      "+-----------+-----------+--------------+----------+--------------+--------------------+----------------+-----------+-------------+-----------+----+-----------------+--------------------+--------------------+-----------+\n",
      "|         US|   10140119|R3LI5TRP3YIDQL|B00TXH4OLC|     384427924|Whatever's for Us...|           Music|          5|            0|          0|   N|                Y|          Five Stars|Love this CD alon...| 2015-08-31|\n",
      "|         US|   27664622|R3LGC3EKEG84PX|B00B6QXN6U|     831769051|Same Trailer Diff...|           Music|          5|            0|          0|   N|                Y|A new fave in our...|This is the album...| 2015-08-31|\n",
      "|         US|   45946560| R9PYL3OYH55QY|B001GCZXW6|      14067376| Soaring (Jazz Club)|           Music|          5|            0|          1|   N|                Y|          Five Stars|  Excellent / thanks| 2015-08-31|\n",
      "|         US|   15146326|R3PWBAWUS4NT0Q|B000003EK6|     566295619|     CARIBBEAN PARTY|           Music|          3|            0|          0|   N|                Y|         Three Stars|Nice variety of c...| 2015-08-31|\n",
      "|         US|   16794688|R15LYP3O51UU9E|B00N1F0BKK|     210426072|         Pain Killer|           Music|          5|            0|          0|   N|                Y|          Five Stars|Purchased as a gi...| 2015-08-31|\n",
      "|         US|   32203364|R1AD7L0CC3DSRI|B00V7KAO7Q|     360249504|A Thoughtiverse U...|           Music|          5|            0|          0|   N|                Y|Definitely worth ...|Really enjoyed th...| 2015-08-31|\n",
      "|         US|    1194276|R32FE8Y45QV434|B000094Q4P|      20972283|Comfort of Her Wings|           Music|          5|            0|          0|   N|                Y|          Five Stars|            Great CD| 2015-08-31|\n",
      "|         US|   45813052|R3NM4MZ4XWL43Q|B00JMK0P1I|     378049560|Sleep Soundly CD ...|           Music|          5|            1|          2|   N|                Y|          Five Stars|       Excellent CD!| 2015-08-31|\n",
      "|         US|   12795687|R3H4FXX6Q7I37D|B008OW1S3O|     141620702|     An Awesome Wave|           Music|          4|            0|          0|   N|                Y|          Four Stars|                nice| 2015-08-31|\n",
      "|         US|   36673840|R30L5PET7LFFDC|B00VI2L3L4|     920557135|          Blurryface|           Music|          5|            1|          1|   N|                Y|        Outstanding!|Outstanding music...| 2015-08-31|\n",
      "|         US|   49453576|  REFRE1LEKLAF|B0000041EV|     683128964|Mozart For Mother...|           Music|          4|            1|          1|   N|                Y|          Four Stars|      quite relaxing| 2015-08-31|\n",
      "|         US|    3285047|R3JTJ5EQN74E9H|B00005YW4H|     268461622|   Come Away with Me|           Music|          5|            0|          0|   N|                Y|          Five Stars|I love this CD.  ...| 2015-08-31|\n",
      "|         US|   24471201|R1W2F091LCOAW5|B00Q9KEZV0|     444090572| Tomorrow Is My Turn|           Music|          5|            0|          0|   N|                Y|FIve Stars and Th...|Rhiannon Giddens ...| 2015-08-31|\n",
      "|         US|   28049396| RYUMFQRRB1FNM|B00GFXRKHW|     482597726|       The Outsiders|           Music|          3|            0|          0|   N|                Y|         Three Stars|Wrecking Ball is ...| 2015-08-31|\n",
      "|         US|   41137196| RHCS6VVXWV3Q3|B004L3AQ10|     609457123|  The Lincoln Lawyer|           Music|          5|            0|          0|   N|                Y|          Five Stars|I was pleased wit...| 2015-08-31|\n",
      "|         US|   43305401|R35UL1YZ2142SL|B0000025PM|     125399885|Bach: Goldberg Va...|           Music|          5|            0|          0|   N|                Y|   The Creative Flow|The music that in...| 2015-08-31|\n",
      "|         US|   50808489|  RU1O6QD1LEBB|B00701QUN8|     144457491|Quiet Riot - Grea...|           Music|          5|            0|          0|   N|                Y|          Five Stars|   Excellent CD&#62;| 2015-08-31|\n",
      "|         US|   15536614|R36RXVL3XIZFH7|B003UJC2QI|     207971309|Love Or Money/Lov...|           Music|          5|            0|          0|   N|                N|    Great Pop Single|Love Or Money by ...| 2015-08-31|\n",
      "|         US|   32536909|R16O7SHYHLEYA1|B00LGA16J2|     760666287|Jonas Kaufmann - ...|           Music|          5|            0|          0|   N|                Y|          Five Stars|      Just splendid!| 2015-08-31|\n",
      "|         US|   51160312|R1Y5GX65Z2V9BG|B00ZGVMLLE|      37408836|        Clockworking|           Music|          5|            0|          0|   N|                N|Glorious Glorious...|One of my favorit...| 2015-08-31|\n",
      "+-----------+-----------+--------------+----------+--------------+--------------------+----------------+-----------+-------------+-----------+----+-----------------+--------------------+--------------------+-----------+\n",
      "only showing top 20 rows\n",
      "\n"
     ]
    }
   ],
   "source": [
    "# Drop product_id = \"B000002O1H\", its duplicates are persisting...\n",
    "df_cleaned = df.filter(df[\"product_id\"] != \"B000002O1H\")\n",
    "df_cleaned.show()"
   ]
  },
  {
   "cell_type": "code",
   "execution_count": 6,
   "metadata": {
    "colab": {
     "base_uri": "https://localhost:8080/"
    },
    "id": "GFcJHuOFIVqE",
    "outputId": "012ca9a1-e250-442d-ad06-5a7067faa84c"
   },
   "outputs": [
    {
     "name": "stdout",
     "output_type": "stream",
     "text": [
      "+--------------+-----------+-------------+-----------+----+-----------------+\n",
      "|     review_id|star_rating|helpful_votes|total_votes|vine|verified_purchase|\n",
      "+--------------+-----------+-------------+-----------+----+-----------------+\n",
      "|R3LI5TRP3YIDQL|          5|            0|          0|   N|                Y|\n",
      "|R3LGC3EKEG84PX|          5|            0|          0|   N|                Y|\n",
      "| R9PYL3OYH55QY|          5|            0|          1|   N|                Y|\n",
      "|R3PWBAWUS4NT0Q|          3|            0|          0|   N|                Y|\n",
      "|R15LYP3O51UU9E|          5|            0|          0|   N|                Y|\n",
      "|R1AD7L0CC3DSRI|          5|            0|          0|   N|                Y|\n",
      "|R32FE8Y45QV434|          5|            0|          0|   N|                Y|\n",
      "|R3NM4MZ4XWL43Q|          5|            1|          2|   N|                Y|\n",
      "|R3H4FXX6Q7I37D|          4|            0|          0|   N|                Y|\n",
      "|R30L5PET7LFFDC|          5|            1|          1|   N|                Y|\n",
      "|  REFRE1LEKLAF|          4|            1|          1|   N|                Y|\n",
      "|R3JTJ5EQN74E9H|          5|            0|          0|   N|                Y|\n",
      "|R1W2F091LCOAW5|          5|            0|          0|   N|                Y|\n",
      "| RYUMFQRRB1FNM|          3|            0|          0|   N|                Y|\n",
      "| RHCS6VVXWV3Q3|          5|            0|          0|   N|                Y|\n",
      "|R35UL1YZ2142SL|          5|            0|          0|   N|                Y|\n",
      "|  RU1O6QD1LEBB|          5|            0|          0|   N|                Y|\n",
      "|R36RXVL3XIZFH7|          5|            0|          0|   N|                N|\n",
      "|R16O7SHYHLEYA1|          5|            0|          0|   N|                Y|\n",
      "|R1Y5GX65Z2V9BG|          5|            0|          0|   N|                N|\n",
      "+--------------+-----------+-------------+-----------+----+-----------------+\n",
      "only showing top 20 rows\n",
      "\n"
     ]
    }
   ],
   "source": [
    "# Create the vine_table. DataFrame\n",
    "vine_df = df_cleaned.select([\"review_id\", \"star_rating\", \"helpful_votes\",\n",
    "                             \"total_votes\", \"vine\", \"verified_purchase\"])\n",
    "vine_df.show()"
   ]
  },
  {
   "cell_type": "code",
   "execution_count": 7,
   "metadata": {
    "colab": {
     "base_uri": "https://localhost:8080/"
    },
    "id": "I3xpb_UkIkHj",
    "outputId": "6b248ed7-35b9-4c26-94ac-fdfcf1f4b1da"
   },
   "outputs": [
    {
     "name": "stdout",
     "output_type": "stream",
     "text": [
      "+--------------+-----------+-------------+-----------+----+-----------------+\n",
      "|     review_id|star_rating|helpful_votes|total_votes|vine|verified_purchase|\n",
      "+--------------+-----------+-------------+-----------+----+-----------------+\n",
      "|R2SHXRL6SL1GC9|          3|           25|         26|   N|                Y|\n",
      "|R2ZC033X86YOY8|          5|           25|         26|   N|                N|\n",
      "|R2736RJGCOSL80|          5|           19|         20|   N|                Y|\n",
      "| RRY5DJ6J9BKAX|          5|           19|         21|   N|                Y|\n",
      "|R2P4PJJ2ROTPBM|          5|           46|         48|   N|                N|\n",
      "| RO8RAEGB66BKR|          4|           46|         46|   N|                N|\n",
      "| RRFZ7QZTRJC59|          5|          292|        300|   N|                N|\n",
      "| RFN4PNRUD1UW2|          4|           21|         22|   N|                N|\n",
      "| RO7EBJEP7IHIX|          5|           26|         26|   N|                N|\n",
      "|R1CVS4MK9RTNNP|          2|           11|         22|   N|                N|\n",
      "| REIWYIGFMEKEV|          5|           26|         30|   N|                Y|\n",
      "|R2FV27WWRWROZU|          4|           26|         27|   N|                N|\n",
      "|R30I82JFOSSJMA|          3|           14|         20|   N|                Y|\n",
      "|R2FUEC06SD2TZ1|          1|            2|         24|   N|                Y|\n",
      "|R16QHOYRY9QLQU|          5|           36|         39|   N|                N|\n",
      "|R1CQON45M11K9Q|          5|          125|        131|   N|                Y|\n",
      "|R1WYWVRXAGND36|          5|           24|         25|   N|                N|\n",
      "| R6RZ581R948P7|          1|           29|         42|   N|                Y|\n",
      "| RBRZ21U9GFORT|          5|           28|         33|   N|                N|\n",
      "|R2Y6OCM9IEH9QO|          1|           12|         21|   N|                N|\n",
      "+--------------+-----------+-------------+-----------+----+-----------------+\n",
      "only showing top 20 rows\n",
      "\n"
     ]
    }
   ],
   "source": [
    "# Filter vine_df to retrieve all rows with total_votes >= 20\n",
    "vine_high_tot_votes = vine_df.filter(vine_df[\"total_votes\"] >= 20)\n",
    "vine_high_tot_votes.show()"
   ]
  },
  {
   "cell_type": "code",
   "execution_count": 8,
   "metadata": {
    "colab": {
     "base_uri": "https://localhost:8080/"
    },
    "id": "i2mepbshKfx4",
    "outputId": "d0ffe060-0074-439c-c554-74c109ae3371"
   },
   "outputs": [
    {
     "name": "stdout",
     "output_type": "stream",
     "text": [
      "+--------------+-----------+-------------+-----------+----+-----------------+\n",
      "|     review_id|star_rating|helpful_votes|total_votes|vine|verified_purchase|\n",
      "+--------------+-----------+-------------+-----------+----+-----------------+\n",
      "|R2SHXRL6SL1GC9|          3|           25|         26|   N|                Y|\n",
      "|R2ZC033X86YOY8|          5|           25|         26|   N|                N|\n",
      "|R2736RJGCOSL80|          5|           19|         20|   N|                Y|\n",
      "| RRY5DJ6J9BKAX|          5|           19|         21|   N|                Y|\n",
      "|R2P4PJJ2ROTPBM|          5|           46|         48|   N|                N|\n",
      "| RO8RAEGB66BKR|          4|           46|         46|   N|                N|\n",
      "| RRFZ7QZTRJC59|          5|          292|        300|   N|                N|\n",
      "| RFN4PNRUD1UW2|          4|           21|         22|   N|                N|\n",
      "| RO7EBJEP7IHIX|          5|           26|         26|   N|                N|\n",
      "|R1CVS4MK9RTNNP|          2|           11|         22|   N|                N|\n",
      "| REIWYIGFMEKEV|          5|           26|         30|   N|                Y|\n",
      "|R2FV27WWRWROZU|          4|           26|         27|   N|                N|\n",
      "|R30I82JFOSSJMA|          3|           14|         20|   N|                Y|\n",
      "|R16QHOYRY9QLQU|          5|           36|         39|   N|                N|\n",
      "|R1CQON45M11K9Q|          5|          125|        131|   N|                Y|\n",
      "|R1WYWVRXAGND36|          5|           24|         25|   N|                N|\n",
      "| R6RZ581R948P7|          1|           29|         42|   N|                Y|\n",
      "| RBRZ21U9GFORT|          5|           28|         33|   N|                N|\n",
      "|R2Y6OCM9IEH9QO|          1|           12|         21|   N|                N|\n",
      "|R26I5D95TEK226|          5|           52|         56|   N|                N|\n",
      "+--------------+-----------+-------------+-----------+----+-----------------+\n",
      "only showing top 20 rows\n",
      "\n"
     ]
    }
   ],
   "source": [
    "# Filter vine_high_tot_votes to retrieve all rows where helpful_votes / total_votes >= 0.5\n",
    "vine_majority_helpful = vine_high_tot_votes.filter((vine_high_tot_votes[\"helpful_votes\"] / vine_high_tot_votes[\"total_votes\"]) >= 0.5)\n",
    "vine_majority_helpful.show()"
   ]
  },
  {
   "cell_type": "code",
   "execution_count": 9,
   "metadata": {
    "colab": {
     "base_uri": "https://localhost:8080/"
    },
    "id": "IWQNppwzLeEW",
    "outputId": "5f04ea2e-b1d1-4b01-bcb6-e3f3190a7b53"
   },
   "outputs": [
    {
     "name": "stdout",
     "output_type": "stream",
     "text": [
      "+--------------+-----------+-------------+-----------+----+-----------------+\n",
      "|     review_id|star_rating|helpful_votes|total_votes|vine|verified_purchase|\n",
      "+--------------+-----------+-------------+-----------+----+-----------------+\n",
      "| R84VUCDBCI29U|          3|           18|         28|   Y|                N|\n",
      "| R4V3ICFDTIDIF|          4|           20|         21|   Y|                N|\n",
      "|R1JZ0JAPW83WFS|          4|           54|         58|   Y|                N|\n",
      "|R1XH7EA97FAVP7|          3|           35|         44|   Y|                N|\n",
      "|R1482JAU1ZR7QH|          4|           15|         22|   Y|                N|\n",
      "|R1GGYGVTHP84DG|          4|           25|         27|   Y|                N|\n",
      "| RXGU9DSKZJSP0|          3|           21|         22|   Y|                N|\n",
      "+--------------+-----------+-------------+-----------+----+-----------------+\n",
      "\n"
     ]
    }
   ],
   "source": [
    "# Filter vine_majority_helpful to retrieve all rows where a vine review was written\n",
    "# i.e vine == \"Y\" (paid)\n",
    "vine_helpful_with_rev = vine_majority_helpful.filter(vine_majority_helpful[\"vine\"] == \"Y\")\n",
    "vine_helpful_with_rev.show()"
   ]
  },
  {
   "cell_type": "code",
   "execution_count": 10,
   "metadata": {
    "colab": {
     "base_uri": "https://localhost:8080/"
    },
    "id": "Jci8Qix1Mb4m",
    "outputId": "f0ea722e-be3b-4c3b-afd7-3cbcdea16a8f"
   },
   "outputs": [
    {
     "name": "stdout",
     "output_type": "stream",
     "text": [
      "+--------------+-----------+-------------+-----------+----+-----------------+\n",
      "|     review_id|star_rating|helpful_votes|total_votes|vine|verified_purchase|\n",
      "+--------------+-----------+-------------+-----------+----+-----------------+\n",
      "|R2SHXRL6SL1GC9|          3|           25|         26|   N|                Y|\n",
      "|R2ZC033X86YOY8|          5|           25|         26|   N|                N|\n",
      "|R2736RJGCOSL80|          5|           19|         20|   N|                Y|\n",
      "| RRY5DJ6J9BKAX|          5|           19|         21|   N|                Y|\n",
      "|R2P4PJJ2ROTPBM|          5|           46|         48|   N|                N|\n",
      "| RO8RAEGB66BKR|          4|           46|         46|   N|                N|\n",
      "| RRFZ7QZTRJC59|          5|          292|        300|   N|                N|\n",
      "| RFN4PNRUD1UW2|          4|           21|         22|   N|                N|\n",
      "| RO7EBJEP7IHIX|          5|           26|         26|   N|                N|\n",
      "|R1CVS4MK9RTNNP|          2|           11|         22|   N|                N|\n",
      "| REIWYIGFMEKEV|          5|           26|         30|   N|                Y|\n",
      "|R2FV27WWRWROZU|          4|           26|         27|   N|                N|\n",
      "|R30I82JFOSSJMA|          3|           14|         20|   N|                Y|\n",
      "|R16QHOYRY9QLQU|          5|           36|         39|   N|                N|\n",
      "|R1CQON45M11K9Q|          5|          125|        131|   N|                Y|\n",
      "|R1WYWVRXAGND36|          5|           24|         25|   N|                N|\n",
      "| R6RZ581R948P7|          1|           29|         42|   N|                Y|\n",
      "| RBRZ21U9GFORT|          5|           28|         33|   N|                N|\n",
      "|R2Y6OCM9IEH9QO|          1|           12|         21|   N|                N|\n",
      "|R26I5D95TEK226|          5|           52|         56|   N|                N|\n",
      "+--------------+-----------+-------------+-----------+----+-----------------+\n",
      "only showing top 20 rows\n",
      "\n"
     ]
    }
   ],
   "source": [
    "# Filter vine_majority_helpful again, this time to retrieve all rows where a vine review was not written\n",
    "# i.e vine == \"N\" (unpaid)\n",
    "vine_helpful_without_rev = vine_majority_helpful.filter(vine_majority_helpful[\"vine\"] == \"N\")\n",
    "vine_helpful_without_rev.show()"
   ]
  },
  {
   "cell_type": "code",
   "execution_count": 11,
   "metadata": {
    "colab": {
     "base_uri": "https://localhost:8080/"
    },
    "id": "cK5Vy3VLNJ9L",
    "outputId": "573076f6-7040-4718-ac3b-e7a1d412c74e"
   },
   "outputs": [
    {
     "name": "stdout",
     "output_type": "stream",
     "text": [
      "Rating Breakdown (Paid):\n",
      "+-----------+------------------+\n",
      "|star_rating|count(star_rating)|\n",
      "+-----------+------------------+\n",
      "|          3|                 3|\n",
      "|          4|                 4|\n",
      "+-----------+------------------+\n",
      "\n",
      "Rating Breakdown (Unpaid):\n",
      "+-----------+------------------+\n",
      "|star_rating|count(star_rating)|\n",
      "+-----------+------------------+\n",
      "|          1|              9157|\n",
      "|          3|              7897|\n",
      "|          5|             67580|\n",
      "|          4|             15997|\n",
      "|          2|              5348|\n",
      "+-----------+------------------+\n",
      "\n"
     ]
    }
   ],
   "source": [
    "# For both vine_helpful_with_rev (paid) and vine_helpful_without_rev (unpaid), determine:\n",
    "# 1. Number of 5 star reviews\n",
    "# 2. Percentage of 5 star reviews\n",
    "from pyspark.sql.functions import count\n",
    "review_counts_paid_df = vine_helpful_with_rev.groupby(\"star_rating\").\\\n",
    "                                                agg(count(\"star_rating\"))\n",
    "print(\"Rating Breakdown (Paid):\")\n",
    "review_counts_paid_df.show()\n",
    "\n",
    "review_counts_unpaid_df = vine_helpful_without_rev.groupby(\"star_rating\").\\\n",
    "                                                     agg(count(\"star_rating\"))\n",
    "print(\"Rating Breakdown (Unpaid):\")\n",
    "review_counts_unpaid_df.show()"
   ]
  },
  {
   "cell_type": "markdown",
   "metadata": {},
   "source": [
    "### Summarize Number and Percent of 5 Star Reviews for both Paid and Unpaid"
   ]
  },
  {
   "cell_type": "code",
   "execution_count": 12,
   "metadata": {
    "id": "bbRcRxKpBjlA"
   },
   "outputs": [],
   "source": [
    "def summarize_reviews(df):\n",
    "    \"\"\"\n",
    "    Function to read results dataframes and return the 5 star rating count and\n",
    "    percent\n",
    "\n",
    "    Parameters:\n",
    "    -----------\n",
    "    df : pyspark.sql.dataframe.DataFrame\n",
    "        PySpark data frame with each rating/count\n",
    "\n",
    "    Returns:\n",
    "    --------\n",
    "    (n_total, n_5star, pct_5star) : tuple\n",
    "        Tuple containing the total number of ratings, number of 5 star\n",
    "        ratings, and percent of 5 star ratings for the input dataframe\n",
    "    \"\"\"\n",
    "    results_5star = df.filter(df[\"star_rating\"] == \"5\").collect()\n",
    "    if results_5star != []:\n",
    "        n_5star = results_5star[0].asDict()[\"count(star_rating)\"]\n",
    "    else:\n",
    "        n_5star = 0\n",
    "    results_other = df.filter(df[\"star_rating\"] != \"5\").collect()\n",
    "    n_other = 0\n",
    "    for row in results_other:\n",
    "        n_other += row.asDict()[\"count(star_rating)\"]\n",
    "    n_total = n_5star + n_other\n",
    "    pct_5star = n_5star / n_total\n",
    "    return (n_total, n_5star, pct_5star)"
   ]
  },
  {
   "cell_type": "code",
   "execution_count": 13,
   "metadata": {
    "colab": {
     "base_uri": "https://localhost:8080/"
    },
    "id": "EN9K8cZZ4Cpu",
    "outputId": "1ec643e1-9b9a-414d-8192-5e09f75b51b5"
   },
   "outputs": [
    {
     "name": "stdout",
     "output_type": "stream",
     "text": [
      "+----------+-------+-------+---------+\n",
      "|Pay_Status|N_Total|N_5Star|Pct_5Star|\n",
      "+----------+-------+-------+---------+\n",
      "|      Paid|      7|      0|      0.0|\n",
      "|    Unpaid| 105979|  67580| 63.76735|\n",
      "+----------+-------+-------+---------+\n",
      "\n"
     ]
    }
   ],
   "source": [
    "# Create Dataframe for results:\n",
    "from pyspark.sql.types import StructField, StringType, IntegerType, FloatType, StructType\n",
    "schema = [StructField(\"Pay_Status\", StringType(), True), StructField(\"N_Total\", IntegerType(), True), StructField(\"N_5Star\", IntegerType(), True), StructField(\"Pct_5Star\", FloatType(), True)]\n",
    "final = StructType(fields=schema)\n",
    "\n",
    "results_paid = summarize_reviews(review_counts_paid_df)\n",
    "results_unpaid = summarize_reviews(review_counts_unpaid_df)\n",
    "results_df = spark.createDataFrame([\n",
    "                                    (\"Paid\", results_paid[0], results_paid[1], results_paid[2] * 100),\n",
    "                                    (\"Unpaid\", results_unpaid[0], results_unpaid[1], results_unpaid[2] * 100)\n",
    "], final)\n",
    "\n",
    "results_df.show()"
   ]
  }
 ],
 "metadata": {
  "colab": {
   "name": "Vine_Review_Analysis.ipynb",
   "provenance": []
  },
  "kernelspec": {
   "display_name": "Python 3",
   "language": "python",
   "name": "python3"
  },
  "language_info": {
   "codemirror_mode": {
    "name": "ipython",
    "version": 3
   },
   "file_extension": ".py",
   "mimetype": "text/x-python",
   "name": "python",
   "nbconvert_exporter": "python",
   "pygments_lexer": "ipython3",
   "version": "3.7.6"
  }
 },
 "nbformat": 4,
 "nbformat_minor": 1
}
